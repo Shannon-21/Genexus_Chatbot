{
  "nbformat": 4,
  "nbformat_minor": 0,
  "metadata": {
    "colab": {
      "provenance": [],
      "collapsed_sections": [
        "b63b9PIXUqPi",
        "XbQWKMHcg9Y-",
        "QfzNDdvoRRki",
        "VKSE-HsST2iu",
        "7EAFgmPhRdL4",
        "itD3z9ddSvWr",
        "mJ_4Vr6BCkbS",
        "DB8GHSPnu4o7",
        "C-Hd2Sf7IkqU",
        "5Dq3FE-9IlTr"
      ]
    },
    "kernelspec": {
      "name": "python3",
      "display_name": "Python 3"
    },
    "language_info": {
      "name": "python"
    }
  },
  "cells": [
    {
      "cell_type": "markdown",
      "source": [
        "# Presentación"
      ],
      "metadata": {
        "id": "b63b9PIXUqPi"
      }
    },
    {
      "cell_type": "markdown",
      "source": [
        "## Tecnicatura Universitaria en Inteligencia Artificial\n",
        "\n",
        "### Procesamiento de lenguaje natural - IA.42\n",
        "\n",
        "---\n",
        "\n",
        "**Estudiante**: Fabio Giampaoli\n",
        "\n",
        "\n",
        "**Fecha**: 18-12-2023\n",
        "\n",
        "---"
      ],
      "metadata": {
        "id": "0avuznKrUwbN"
      }
    },
    {
      "cell_type": "markdown",
      "source": [
        "Este proyecto consiste en la creación de un modelo de lenguaje como asistente para conversar con lenguaje natural sobre algún dominio de interés a alección, y la investigación de la posibilidad de convertirlo en un sistema multiagente que pueda conectar con diversas herramientas.\n",
        "\n",
        "En este caso, mi interés es que el agente sea experto en Genexus. Genexus en un entorno de desarrollo de software que mediante un lenguaje de programación simiplificado e integraciones con otras herramientas, se puede generar código fuente para compilar y desplegar aplicaciones.\n",
        "\n",
        "El objetivo es que el agente pueda tener a disposición la documentación oficial de Genexus para que pueda mantener una conversación al respecto como si Genexus fuera parte de su fuente de su conocimiento, para finalmente darle al usuario que interactua la sensación de que el agente puede ayudar a resolver dudas y problemas relacionados."
      ],
      "metadata": {
        "id": "-xYHPDe-VPD6"
      }
    },
    {
      "cell_type": "markdown",
      "source": [
        "# Resolución"
      ],
      "metadata": {
        "id": "rpSWephqX1LV"
      }
    },
    {
      "cell_type": "markdown",
      "source": [
        "### Entorno\n"
      ],
      "metadata": {
        "id": "XbQWKMHcg9Y-"
      }
    },
    {
      "cell_type": "code",
      "source": [
        "%%capture\n",
        "# instalación de modulos\n",
        "!pip install -q chromadb\n",
        "!pip install sentence-transformers langchain\n",
        "!pip install -U deep-translator\n",
        "\n",
        "# procesamiento\n",
        "import pandas as pd\n",
        "import torch\n",
        "import re\n",
        "\n",
        "# scrapping\n",
        "from bs4 import BeautifulSoup\n",
        "import requests\n",
        "\n",
        "# limpieza\n",
        "from nltk.corpus import stopwords\n",
        "import string\n",
        "from nltk.stem import WordNetLemmatizer\n",
        "\n",
        "# tokenización\n",
        "import nltk\n",
        "from nltk import sent_tokenize\n",
        "\n",
        "# base de datos vectorial\n",
        "import chromadb\n",
        "from sentence_transformers import SentenceTransformer, util\n",
        "\n",
        "# traducción de texto\n",
        "from deep_translator import GoogleTranslator\n",
        "\n",
        "# modelo de embedding para oraciones\n",
        "modelo_embedding = SentenceTransformer('distiluse-base-multilingual-cased-v1')\n",
        "\n",
        "# descargas\n",
        "nltk.download('stopwords')\n",
        "nltk.download(\"wordnet\")\n",
        "nltk.download(\"omw-1.4\")\n",
        "nltk.download('punkt')"
      ],
      "metadata": {
        "id": "o09e5faiRLQD"
      },
      "execution_count": null,
      "outputs": []
    },
    {
      "cell_type": "markdown",
      "source": [
        "### Fuentes"
      ],
      "metadata": {
        "id": "QfzNDdvoRRki"
      }
    },
    {
      "cell_type": "markdown",
      "source": [
        "Para el objetivo de alimentar modelos de lenguaje con información de como funciona Genexus se recurre a la documentación oficial de su sitio oficial: La wiki de Genexus (https://wiki.genexus.com/commwiki/wiki?1756,Category%3AGeneXus).\n",
        "\n",
        "\n",
        "La estructura de la wiki es particularmente conveniente para este escenario. Podemos notar que la estructura html de la página se puede extraer facilmente el contenido textual y el código y sintáxis de los ejemplos. De hecho, hay una divisor particular con la clase \"TableWikiBody\" que contiene toda esta información. Por lo que extrear el texto de este tag particular retorna todo el contenido buscado."
      ],
      "metadata": {
        "id": "twdcERFaYpVq"
      }
    },
    {
      "cell_type": "code",
      "execution_count": null,
      "metadata": {
        "id": "O-FwW3-tB-nv"
      },
      "outputs": [],
      "source": [
        "def scrape(url):\n",
        "    '''Extrae el texto del divisor con la clase que abarca el contenido de la página'''\n",
        "    # consulta al link de la página\n",
        "    response = requests.get(url)\n",
        "    soup = BeautifulSoup(response.text, 'html.parser')\n",
        "\n",
        "    # encuentra el divisor deseado\n",
        "    wiki_body = soup.find_all(\"div\", class_=\"TableWikiBody\")[0]\n",
        "\n",
        "    # extrae todo el texto del divisor\n",
        "    extracted_text = []\n",
        "    for element in wiki_body.find_all(recursive=False):\n",
        "        extracted_text.append(element.text.strip())\n",
        "\n",
        "    # concatena a un unico string\n",
        "    texto_final = '\\n'.join(extracted_text)\n",
        "    return texto_final"
      ]
    },
    {
      "cell_type": "markdown",
      "source": [
        "Además, cuenta con un índice de contenidos a la izquieda que es una estructura con desplegables que te llevan a las diferentes paginas de la Wiki para leer sobre los diferentes temas de interés.\n",
        "\n",
        "Cada elemento del indice representa el título de la página y una referencia al link de dicha página. Por lo que iterar sobre esta estructura tambien resulta muy simple."
      ],
      "metadata": {
        "id": "eRFLqu1lcSfl"
      }
    },
    {
      "cell_type": "code",
      "source": [
        "# consulta a la wiki\n",
        "url = \"https://wiki.genexus.com/commwiki/wiki?6426,Inline+Formulas+within+a+contextual+table\"\n",
        "response = requests.get(url)\n",
        "soup = BeautifulSoup(response.text, 'html.parser')\n",
        "\n",
        "# obtiene los sub-elementos del indice bajo el titulo Genexus\n",
        "menu = soup.find_all('li')[3].find_all('a')\n",
        "\n",
        "# para guardar en dataframe el indice\n",
        "refs = []\n",
        "titles = []\n",
        "df_menu = pd.DataFrame()\n",
        "\n",
        "# extraer de cada elemento el titulo y su url completa\n",
        "for ref in menu:\n",
        "    refs.append(f\"https://wiki.genexus.com/{ref.get('href')}\")\n",
        "    titles.append(ref.text)\n",
        "\n",
        "df_menu['Title'] = titles\n",
        "df_menu['Link'] = refs\n",
        "df_menu['Content'] = df_menu['Link'].apply(scrape) # de cada link extrae su contenido"
      ],
      "metadata": {
        "id": "cMMoRE7OK8JL"
      },
      "execution_count": null,
      "outputs": []
    },
    {
      "cell_type": "markdown",
      "source": [
        "Para contextualizar de mejor manera el contenido podemos asignar categorias a cada registro de este nuevo dataframe. De forma que la categoria abarque determinados tipos de información dentro."
      ],
      "metadata": {
        "id": "JeSj86J7dj3t"
      }
    },
    {
      "cell_type": "code",
      "source": [
        "def classify(titles, classes, start_title, end_title, class_label):\n",
        "    '''detecta el inicio y fin de los indices correspondientes a los titulos, y les asigna la categoria a ambos y sus intermedios'''\n",
        "    start_index = None\n",
        "    end_index = None\n",
        "\n",
        "    # extrae el titulo de la url de cada registro\n",
        "    for i, tag in enumerate(titles):\n",
        "        soup = BeautifulSoup(tag.text, 'html.parser')\n",
        "        title_text = soup.get_text(strip=True)\n",
        "\n",
        "        # compara para determinar su indice\n",
        "        if start_title == title_text:\n",
        "            start_index = i\n",
        "        elif end_title == title_text:\n",
        "            end_index = i\n",
        "\n",
        "    # asigna el valor de clase\n",
        "    if start_index is not None and end_index is not None:\n",
        "        for i in range(start_index, end_index + 1):\n",
        "            classes[i] = class_label\n",
        "\n",
        "# lista vacia para las clases\n",
        "classes = [None for _ in range(len(menu))]\n",
        "\n",
        "# selección manual de inicio y fin de las categorias\n",
        "classify(menu, classes, 'What is a Knowledge Base', 'GeneXus IDE', 'General')\n",
        "classify(menu, classes, 'Transaction object', 'File object', 'Modeling')\n",
        "classify(menu, classes, 'Reorganization', 'Impact Database Tables', 'Building')\n",
        "classify(menu, classes, 'Data View object', 'Payment services', 'Integration')\n",
        "classify(menu, classes, 'Knowledge Manager', 'Application Security', 'Knowledge')\n",
        "\n",
        "df_menu['Class'] = classes"
      ],
      "metadata": {
        "colab": {
          "base_uri": "https://localhost:8080/"
        },
        "id": "srllYsY0im56",
        "outputId": "9ec22da5-f4f8-4563-c367-d86448e1a83a"
      },
      "execution_count": null,
      "outputs": [
        {
          "output_type": "stream",
          "name": "stderr",
          "text": [
            "<ipython-input-24-c6dccb923d7e>:8: MarkupResemblesLocatorWarning: The input looks more like a filename than markup. You may want to open this file and pass the filehandle into Beautiful Soup.\n",
            "  soup = BeautifulSoup(tag.text, 'html.parser')\n"
          ]
        }
      ]
    },
    {
      "cell_type": "markdown",
      "source": [
        "Por lo que contamos ahora con un dataframe que nos permite acceder a todo el contenido de la Wiki de Genexus y conocer sus repectivos titulos, links y clases."
      ],
      "metadata": {
        "id": "R8PzFQpDfGR9"
      }
    },
    {
      "cell_type": "code",
      "source": [
        "display(df_menu.head(3))\n",
        "display(df_menu.shape)"
      ],
      "metadata": {
        "id": "TahiR-_eVP7A",
        "colab": {
          "base_uri": "https://localhost:8080/",
          "height": 213
        },
        "outputId": "05eb73db-a0d4-4424-ceac-037e0f030960"
      },
      "execution_count": null,
      "outputs": [
        {
          "output_type": "display_data",
          "data": {
            "text/plain": [
              "                      Title  \\\n",
              "0  What is a Knowledge Base   \n",
              "1   Knowledge Base Creation   \n",
              "2               GeneXus IDE   \n",
              "\n",
              "                                                Link  \\\n",
              "0  https://wiki.genexus.com//commwiki/wiki?1836,K...   \n",
              "1  https://wiki.genexus.com//commwiki/wiki?9596,N...   \n",
              "2  https://wiki.genexus.com//commwiki/wiki?5272,C...   \n",
              "\n",
              "                                             Content    Class  \\\n",
              "0  To create a new software system with GeneXus y...  General   \n",
              "1  You can create a new Knowledge Base by selecti...  General   \n",
              "2  GeneXus provides an intuitive and consistent U...  General   \n",
              "\n",
              "                                             Cleaned  \n",
              "0  create new software system genexus must create...  \n",
              "1  create new knowledge base select file > new > ...  \n",
              "2  genexus provide intuitive consistent user inte...  "
            ],
            "text/html": [
              "\n",
              "  <div id=\"df-c164f3f6-4fde-41fa-959a-fbc1c6de66d4\" class=\"colab-df-container\">\n",
              "    <div>\n",
              "<style scoped>\n",
              "    .dataframe tbody tr th:only-of-type {\n",
              "        vertical-align: middle;\n",
              "    }\n",
              "\n",
              "    .dataframe tbody tr th {\n",
              "        vertical-align: top;\n",
              "    }\n",
              "\n",
              "    .dataframe thead th {\n",
              "        text-align: right;\n",
              "    }\n",
              "</style>\n",
              "<table border=\"1\" class=\"dataframe\">\n",
              "  <thead>\n",
              "    <tr style=\"text-align: right;\">\n",
              "      <th></th>\n",
              "      <th>Title</th>\n",
              "      <th>Link</th>\n",
              "      <th>Content</th>\n",
              "      <th>Class</th>\n",
              "      <th>Cleaned</th>\n",
              "    </tr>\n",
              "  </thead>\n",
              "  <tbody>\n",
              "    <tr>\n",
              "      <th>0</th>\n",
              "      <td>What is a Knowledge Base</td>\n",
              "      <td>https://wiki.genexus.com//commwiki/wiki?1836,K...</td>\n",
              "      <td>To create a new software system with GeneXus y...</td>\n",
              "      <td>General</td>\n",
              "      <td>create new software system genexus must create...</td>\n",
              "    </tr>\n",
              "    <tr>\n",
              "      <th>1</th>\n",
              "      <td>Knowledge Base Creation</td>\n",
              "      <td>https://wiki.genexus.com//commwiki/wiki?9596,N...</td>\n",
              "      <td>You can create a new Knowledge Base by selecti...</td>\n",
              "      <td>General</td>\n",
              "      <td>create new knowledge base select file &gt; new &gt; ...</td>\n",
              "    </tr>\n",
              "    <tr>\n",
              "      <th>2</th>\n",
              "      <td>GeneXus IDE</td>\n",
              "      <td>https://wiki.genexus.com//commwiki/wiki?5272,C...</td>\n",
              "      <td>GeneXus provides an intuitive and consistent U...</td>\n",
              "      <td>General</td>\n",
              "      <td>genexus provide intuitive consistent user inte...</td>\n",
              "    </tr>\n",
              "  </tbody>\n",
              "</table>\n",
              "</div>\n",
              "    <div class=\"colab-df-buttons\">\n",
              "\n",
              "  <div class=\"colab-df-container\">\n",
              "    <button class=\"colab-df-convert\" onclick=\"convertToInteractive('df-c164f3f6-4fde-41fa-959a-fbc1c6de66d4')\"\n",
              "            title=\"Convert this dataframe to an interactive table.\"\n",
              "            style=\"display:none;\">\n",
              "\n",
              "  <svg xmlns=\"http://www.w3.org/2000/svg\" height=\"24px\" viewBox=\"0 -960 960 960\">\n",
              "    <path d=\"M120-120v-720h720v720H120Zm60-500h600v-160H180v160Zm220 220h160v-160H400v160Zm0 220h160v-160H400v160ZM180-400h160v-160H180v160Zm440 0h160v-160H620v160ZM180-180h160v-160H180v160Zm440 0h160v-160H620v160Z\"/>\n",
              "  </svg>\n",
              "    </button>\n",
              "\n",
              "  <style>\n",
              "    .colab-df-container {\n",
              "      display:flex;\n",
              "      gap: 12px;\n",
              "    }\n",
              "\n",
              "    .colab-df-convert {\n",
              "      background-color: #E8F0FE;\n",
              "      border: none;\n",
              "      border-radius: 50%;\n",
              "      cursor: pointer;\n",
              "      display: none;\n",
              "      fill: #1967D2;\n",
              "      height: 32px;\n",
              "      padding: 0 0 0 0;\n",
              "      width: 32px;\n",
              "    }\n",
              "\n",
              "    .colab-df-convert:hover {\n",
              "      background-color: #E2EBFA;\n",
              "      box-shadow: 0px 1px 2px rgba(60, 64, 67, 0.3), 0px 1px 3px 1px rgba(60, 64, 67, 0.15);\n",
              "      fill: #174EA6;\n",
              "    }\n",
              "\n",
              "    .colab-df-buttons div {\n",
              "      margin-bottom: 4px;\n",
              "    }\n",
              "\n",
              "    [theme=dark] .colab-df-convert {\n",
              "      background-color: #3B4455;\n",
              "      fill: #D2E3FC;\n",
              "    }\n",
              "\n",
              "    [theme=dark] .colab-df-convert:hover {\n",
              "      background-color: #434B5C;\n",
              "      box-shadow: 0px 1px 3px 1px rgba(0, 0, 0, 0.15);\n",
              "      filter: drop-shadow(0px 1px 2px rgba(0, 0, 0, 0.3));\n",
              "      fill: #FFFFFF;\n",
              "    }\n",
              "  </style>\n",
              "\n",
              "    <script>\n",
              "      const buttonEl =\n",
              "        document.querySelector('#df-c164f3f6-4fde-41fa-959a-fbc1c6de66d4 button.colab-df-convert');\n",
              "      buttonEl.style.display =\n",
              "        google.colab.kernel.accessAllowed ? 'block' : 'none';\n",
              "\n",
              "      async function convertToInteractive(key) {\n",
              "        const element = document.querySelector('#df-c164f3f6-4fde-41fa-959a-fbc1c6de66d4');\n",
              "        const dataTable =\n",
              "          await google.colab.kernel.invokeFunction('convertToInteractive',\n",
              "                                                    [key], {});\n",
              "        if (!dataTable) return;\n",
              "\n",
              "        const docLinkHtml = 'Like what you see? Visit the ' +\n",
              "          '<a target=\"_blank\" href=https://colab.research.google.com/notebooks/data_table.ipynb>data table notebook</a>'\n",
              "          + ' to learn more about interactive tables.';\n",
              "        element.innerHTML = '';\n",
              "        dataTable['output_type'] = 'display_data';\n",
              "        await google.colab.output.renderOutput(dataTable, element);\n",
              "        const docLink = document.createElement('div');\n",
              "        docLink.innerHTML = docLinkHtml;\n",
              "        element.appendChild(docLink);\n",
              "      }\n",
              "    </script>\n",
              "  </div>\n",
              "\n",
              "\n",
              "<div id=\"df-3df9f242-12d7-447b-90ab-a4253bde8a44\">\n",
              "  <button class=\"colab-df-quickchart\" onclick=\"quickchart('df-3df9f242-12d7-447b-90ab-a4253bde8a44')\"\n",
              "            title=\"Suggest charts\"\n",
              "            style=\"display:none;\">\n",
              "\n",
              "<svg xmlns=\"http://www.w3.org/2000/svg\" height=\"24px\"viewBox=\"0 0 24 24\"\n",
              "     width=\"24px\">\n",
              "    <g>\n",
              "        <path d=\"M19 3H5c-1.1 0-2 .9-2 2v14c0 1.1.9 2 2 2h14c1.1 0 2-.9 2-2V5c0-1.1-.9-2-2-2zM9 17H7v-7h2v7zm4 0h-2V7h2v10zm4 0h-2v-4h2v4z\"/>\n",
              "    </g>\n",
              "</svg>\n",
              "  </button>\n",
              "\n",
              "<style>\n",
              "  .colab-df-quickchart {\n",
              "      --bg-color: #E8F0FE;\n",
              "      --fill-color: #1967D2;\n",
              "      --hover-bg-color: #E2EBFA;\n",
              "      --hover-fill-color: #174EA6;\n",
              "      --disabled-fill-color: #AAA;\n",
              "      --disabled-bg-color: #DDD;\n",
              "  }\n",
              "\n",
              "  [theme=dark] .colab-df-quickchart {\n",
              "      --bg-color: #3B4455;\n",
              "      --fill-color: #D2E3FC;\n",
              "      --hover-bg-color: #434B5C;\n",
              "      --hover-fill-color: #FFFFFF;\n",
              "      --disabled-bg-color: #3B4455;\n",
              "      --disabled-fill-color: #666;\n",
              "  }\n",
              "\n",
              "  .colab-df-quickchart {\n",
              "    background-color: var(--bg-color);\n",
              "    border: none;\n",
              "    border-radius: 50%;\n",
              "    cursor: pointer;\n",
              "    display: none;\n",
              "    fill: var(--fill-color);\n",
              "    height: 32px;\n",
              "    padding: 0;\n",
              "    width: 32px;\n",
              "  }\n",
              "\n",
              "  .colab-df-quickchart:hover {\n",
              "    background-color: var(--hover-bg-color);\n",
              "    box-shadow: 0 1px 2px rgba(60, 64, 67, 0.3), 0 1px 3px 1px rgba(60, 64, 67, 0.15);\n",
              "    fill: var(--button-hover-fill-color);\n",
              "  }\n",
              "\n",
              "  .colab-df-quickchart-complete:disabled,\n",
              "  .colab-df-quickchart-complete:disabled:hover {\n",
              "    background-color: var(--disabled-bg-color);\n",
              "    fill: var(--disabled-fill-color);\n",
              "    box-shadow: none;\n",
              "  }\n",
              "\n",
              "  .colab-df-spinner {\n",
              "    border: 2px solid var(--fill-color);\n",
              "    border-color: transparent;\n",
              "    border-bottom-color: var(--fill-color);\n",
              "    animation:\n",
              "      spin 1s steps(1) infinite;\n",
              "  }\n",
              "\n",
              "  @keyframes spin {\n",
              "    0% {\n",
              "      border-color: transparent;\n",
              "      border-bottom-color: var(--fill-color);\n",
              "      border-left-color: var(--fill-color);\n",
              "    }\n",
              "    20% {\n",
              "      border-color: transparent;\n",
              "      border-left-color: var(--fill-color);\n",
              "      border-top-color: var(--fill-color);\n",
              "    }\n",
              "    30% {\n",
              "      border-color: transparent;\n",
              "      border-left-color: var(--fill-color);\n",
              "      border-top-color: var(--fill-color);\n",
              "      border-right-color: var(--fill-color);\n",
              "    }\n",
              "    40% {\n",
              "      border-color: transparent;\n",
              "      border-right-color: var(--fill-color);\n",
              "      border-top-color: var(--fill-color);\n",
              "    }\n",
              "    60% {\n",
              "      border-color: transparent;\n",
              "      border-right-color: var(--fill-color);\n",
              "    }\n",
              "    80% {\n",
              "      border-color: transparent;\n",
              "      border-right-color: var(--fill-color);\n",
              "      border-bottom-color: var(--fill-color);\n",
              "    }\n",
              "    90% {\n",
              "      border-color: transparent;\n",
              "      border-bottom-color: var(--fill-color);\n",
              "    }\n",
              "  }\n",
              "</style>\n",
              "\n",
              "  <script>\n",
              "    async function quickchart(key) {\n",
              "      const quickchartButtonEl =\n",
              "        document.querySelector('#' + key + ' button');\n",
              "      quickchartButtonEl.disabled = true;  // To prevent multiple clicks.\n",
              "      quickchartButtonEl.classList.add('colab-df-spinner');\n",
              "      try {\n",
              "        const charts = await google.colab.kernel.invokeFunction(\n",
              "            'suggestCharts', [key], {});\n",
              "      } catch (error) {\n",
              "        console.error('Error during call to suggestCharts:', error);\n",
              "      }\n",
              "      quickchartButtonEl.classList.remove('colab-df-spinner');\n",
              "      quickchartButtonEl.classList.add('colab-df-quickchart-complete');\n",
              "    }\n",
              "    (() => {\n",
              "      let quickchartButtonEl =\n",
              "        document.querySelector('#df-3df9f242-12d7-447b-90ab-a4253bde8a44 button');\n",
              "      quickchartButtonEl.style.display =\n",
              "        google.colab.kernel.accessAllowed ? 'block' : 'none';\n",
              "    })();\n",
              "  </script>\n",
              "</div>\n",
              "\n",
              "    </div>\n",
              "  </div>\n"
            ]
          },
          "metadata": {}
        },
        {
          "output_type": "display_data",
          "data": {
            "text/plain": [
              "(140, 5)"
            ]
          },
          "metadata": {}
        }
      ]
    },
    {
      "cell_type": "markdown",
      "source": [
        "Con esto se cubre el requisito mínimo de al menos 100 páginas de texto de tres documentos diferentes."
      ],
      "metadata": {
        "id": "WWAk0Mk8hMAF"
      }
    },
    {
      "cell_type": "markdown",
      "source": [
        "### Depuración"
      ],
      "metadata": {
        "id": "VKSE-HsST2iu"
      }
    },
    {
      "cell_type": "markdown",
      "source": [
        "La etapa de limpiza del texto es sencilla debido a que el texto contiene código, y la eliminación o alteración del código dentro del texto puede tener un impacto negativo al final debido a que podrian ser interpredos palabras del lenguaje de programación que han sido procesadas como si fueran parte del lenguaje.\n",
        "\n",
        "Además, todo el contenido proviene de la documentación oficial. Por lo que podemos asumir que no hay espacios vacios, incosistencias en las explicaciones, o errores ortigraficos."
      ],
      "metadata": {
        "id": "8TnyyXpJfVRv"
      }
    },
    {
      "cell_type": "code",
      "source": [
        "def clean_text(text):\n",
        "    text = text.lower() # normalizar en minisculas\n",
        "    # text = text.translate(str.maketrans('', '', string.punctuation)) # eliminar signos de puntuacion (no rinde bien)\n",
        "    text = ' '.join([word for word in text.split() if word not in stopwords.words('english')]) # eliminar palabras de parada\n",
        "    text = ' '.join([WordNetLemmatizer().lemmatize(word, pos=\"v\") for word in text.split()]) # para llevar las palabras a su forma base\n",
        "\n",
        "    return text\n",
        "\n",
        "df_menu['Cleaned'] = df_menu['Content'].apply(clean_text)"
      ],
      "metadata": {
        "id": "uNYqctaFXEcL"
      },
      "execution_count": null,
      "outputs": []
    },
    {
      "cell_type": "code",
      "source": [
        "# ejemplo de un registro depurado\n",
        "df_menu['Cleaned'].iloc[45]"
      ],
      "metadata": {
        "colab": {
          "base_uri": "https://localhost:8080/",
          "height": 139
        },
        "id": "AYOYpOsaZgaC",
        "outputId": "be8f6c80-4bfd-4c37-883d-58a380b21638"
      },
      "execution_count": null,
      "outputs": [
        {
          "output_type": "execute_result",
          "data": {
            "text/plain": [
              "'inline formula local formula define within object code (for example middle procedure source, object subroutine, data provider statement, etc.). words, formula locally assign attribute variable, sentence statement middle code, clause, etc. syntax <variable>|<attribute> = <unconditionalformula>} | <unconditionalformula> inline formula (<unconditionalformula>), either horizontal aggregate. main difference regard global formulas inline may consist several conditional expressions, even single conditional one. addition, inline formula, variables could involve expression (because formula exist local piece code variable known). whereas really know place global formula go triggered. mean \"global\". use everywhere attribute correspond base table allowed) global formulas always table context (the table formula attribute would store virtual), inline formulas to. kind formulas? need context evaluated: aggregate formulas. context meaningful? affect calculation result, allow add filter condition data considered. example assume flightinstance transaction object store real flight one country/city another, second level, flighinstanceseat, store passengers flight. suppose procedure object need know begin already 100 seat assign passengers correspond table. &success = count(flightinstancepassengerseatnumber) > 100 context table formula. trigger isolated, count record base table, flightinstanceseat. count passengers flight instance stored. hand, code inside command, as: flightinstance count( flightinstancepassengerseatnumber) > 100 print flightinstanceinfo //flightinstancenumber, flightinstancedate endfor formula context: flightinstance table, base table each. thus, passenger seat go counted, correspond flightinstance record consider \"for each\" iteration. so, flight one hundred passengers print output. define global formula attribute flightinstancenumberofpassengers flightinstance transaction level, could define equivalently follows: flightinstance flightinstancenumberofpassengers > 100 print flightinstanceinfo //flightinstancenumber, flightinstancedate endfor furthermore, contextual table, attribute extend table could use inside formula, known. example, variable &fromdate previously loaded: flightinstance count( flightinstancepassengerseatnumber, flightdate >= &fromdate) > 100 ... endfor note inline formulas horizontal always context table: least base table. exactly horizontal global formulas. thus, specify without context attribute could assume value. example: &age = &today.year() - passengerbirthdate.year() assignment isolate make sense. passenger birth date talk about? situation would different assignment were: flightinstanceseat &age = &today.year() - passengerbirthdate.year() ... endfor genexus infer passenger \"for each\" iteration, is, associate base table record position time. \"for each\" navigate table store passengers assign seats: flightinstanceseat. note case context table, flightinstanceseat, exactly base table formula, passenger, former contain extend latter. so, inline formulas define accord context: within contextual table outside contextual table videos inline formulas'"
            ],
            "application/vnd.google.colaboratory.intrinsic+json": {
              "type": "string"
            }
          },
          "metadata": {},
          "execution_count": 27
        }
      ]
    },
    {
      "cell_type": "markdown",
      "source": [
        "Vemos por ejemplo que no eliminar los signos de puntación hace que las lineas de código no pierdan sentido y en el futuro los modelos puedan interpretar estas palabras y simbolos como parte del lenguaje."
      ],
      "metadata": {
        "id": "L8sqr3epglY5"
      }
    },
    {
      "cell_type": "code",
      "source": [
        "df_menu.to_csv('genexus-wiki.csv')"
      ],
      "metadata": {
        "id": "y4EsDoOXdPOD"
      },
      "execution_count": null,
      "outputs": []
    },
    {
      "cell_type": "markdown",
      "source": [
        "### Base de Datos Vectorial"
      ],
      "metadata": {
        "id": "7EAFgmPhRdL4"
      }
    },
    {
      "cell_type": "markdown",
      "source": [
        "Se utiliza un base de datos vectorial para almacenar todo este conocimiento 'CromaDB' debido a la facilidad de uso y practicidad.\n",
        "\n",
        "Se define que los documentos seran todos los registros del dataframe depurados, sus indices como strings unicos, y su metadata serán las categorias, url's y títulos."
      ],
      "metadata": {
        "id": "FRY9324Gg8KS"
      }
    },
    {
      "cell_type": "code",
      "source": [
        "# df_menu = pd.read_csv('genexus-wiki.csv')\n",
        "\n",
        "metadata = [{'Link': row['Link'], 'Title': row['Title'], 'Class': row['Class']} for i, row in df_menu.iterrows()]\n",
        "documents = [row['Cleaned'] for i, row in df_menu.iterrows()]\n",
        "ids = [f'id{i+1}' for i in df_menu.index]"
      ],
      "metadata": {
        "id": "StFpiQPYZMvi"
      },
      "execution_count": null,
      "outputs": []
    },
    {
      "cell_type": "code",
      "source": [
        "# creación de la base\n",
        "chroma_client = chromadb.Client()\n",
        "collection = chroma_client.create_collection(name=\"genexus-wiki-tab\")\n",
        "\n",
        "# añiade toda la información\n",
        "collection.add(\n",
        "    documents=documents,\n",
        "    metadatas=metadata,\n",
        "    ids=ids\n",
        ")"
      ],
      "metadata": {
        "id": "4c6sJiOkOjLk"
      },
      "execution_count": null,
      "outputs": []
    },
    {
      "cell_type": "markdown",
      "source": [
        "Podemos probar por ejemplo una pregunta sobre Genexus a esta base de datos y la misma será capaz de buscar cual es el documento que mas se parace a la pregunta utilizando métricas de distancia para medir cercanias en un espacio que captura las representaciones vectoriales de cada documento."
      ],
      "metadata": {
        "id": "rTHFZ3V5iCJ3"
      }
    },
    {
      "cell_type": "code",
      "source": [
        "user_query = 'what is the variable &trnContext used in trasactions events?'\n",
        "\n",
        "# traer los dos documentos mas cercanos a la pregunta\n",
        "res = collection.query(\n",
        "    query_texts=[user_query],\n",
        "    n_results=2\n",
        ")\n",
        "\n",
        "res['documents'][0][0]"
      ],
      "metadata": {
        "colab": {
          "base_uri": "https://localhost:8080/",
          "height": 104
        },
        "id": "5pfDdeSSbG6u",
        "outputId": "3be7117a-3a7f-4b25-e322-6326c8bdf07a"
      },
      "execution_count": null,
      "outputs": [
        {
          "output_type": "execute_result",
          "data": {
            "text/plain": [
              "'define action execute transaction’s cycle. syntax event trn event_code endevent where: event_code code associate event. description event activate transaction end cycle; is: immediately commit. examples may want return call program enter transaction: event trn return endevent print card transaction transaction session, update last operation log file system, could program follow events: event trn printairlinecard.call(airlineid) updatelogairline.call(airlineid, &timeenter, &timeexit) endevent scope objects: transactions languages: .net, ruby, java, rpg, visual basic, visual foxpro, cobol see also aftercomplete event'"
            ],
            "application/vnd.google.colaboratory.intrinsic+json": {
              "type": "string"
            }
          },
          "metadata": {},
          "execution_count": 34
        }
      ]
    },
    {
      "cell_type": "markdown",
      "source": [
        "### Contexto"
      ],
      "metadata": {
        "id": "itD3z9ddSvWr"
      }
    },
    {
      "cell_type": "markdown",
      "source": [
        "Para darle contexto a los modelos de lenguaje se deben elejir aquellos documentos que mas se relacionen con la pregunta del usuario con el fin de preparar previamente al modelo con información que le puede ser de utilidad para responder dicha pregunta.\n",
        "\n",
        "Pero como un contexto voluminoso para un modelo puede no resultar benefisioso, la idea es separar los documentos cernanos en partes, y quedarse con las partes particulares de estos documentos que mas se parezcan a la pregunta inicial del usuario."
      ],
      "metadata": {
        "id": "OMXnYa3miw0j"
      }
    },
    {
      "cell_type": "code",
      "source": [
        "def tokenize_sentences(res, raw=False):\n",
        "    '''separa una documento de texto en oraciones'''\n",
        "    sentences = []\n",
        "\n",
        "    # si viene de chromadb\n",
        "    if raw == False:\n",
        "        for text_list in res['documents']:\n",
        "            for text in text_list:\n",
        "                # añiade a una lista todas las oraciones\n",
        "                sentences.extend(sent_tokenize(text))\n",
        "    # si es texto plano\n",
        "    else:\n",
        "        sentences.extend(sent_tokenize(res))\n",
        "\n",
        "    return sentences\n",
        "\n",
        "tokens_sentences = tokenize_sentences(res)"
      ],
      "metadata": {
        "id": "f_qw8zL5S00L"
      },
      "execution_count": null,
      "outputs": []
    },
    {
      "cell_type": "markdown",
      "source": [
        "Para determinar cuales son las partes de los documentos mas cercanas al contexto de la pregunta, se llevan tanto las oraciones como la pregunta a un espacio vectorial que permitira determinar que tan cercanas son las oraciones de la pregunta, y con ello podemos quedarnos con un top de las mejores oraciones para utilizar como contexto."
      ],
      "metadata": {
        "id": "Md8G_mFEjtDk"
      }
    },
    {
      "cell_type": "code",
      "source": [
        "# se vectorizan las oraciones de contexto y la pregunta\n",
        "sentence_embeddings = modelo_embedding.encode(tokens_sentences, convert_to_tensor=True)\n",
        "query_embeddings = modelo_embedding.encode(user_query, convert_to_tensor=True)\n",
        "\n",
        "# se obtiene la distancia de coseno entre la pregunta y cada oracion\n",
        "puntuaciones_coseno = util.pytorch_cos_sim(query_embeddings, sentence_embeddings)[0]\n",
        "\n",
        "# se almacena las tres oraciones mas cercanas\n",
        "indices_ordenados = torch.argsort(puntuaciones_coseno, descending=True)\n",
        "top_3_oraciones = [tokens_sentences[i] for i in indices_ordenados[:3]]\n",
        "\n",
        "display(top_3_oraciones)\n",
        "context = ' '.join(top_3_oraciones)"
      ],
      "metadata": {
        "colab": {
          "base_uri": "https://localhost:8080/",
          "height": 86
        },
        "id": "QT0bj7Fg5Hy7",
        "outputId": "95b2fc20-67fa-4cd5-d1e8-71ee497dff0d"
      },
      "execution_count": null,
      "outputs": [
        {
          "output_type": "display_data",
          "data": {
            "text/plain": [
              "['syntax event trackcontext (parameters) event_code endevent where: event_code code associate event.',\n",
              " 'syntax event trn event_code endevent where: event_code code associate event.',\n",
              " 'define trackcontext event, allow retrieve context information take desire actions.']"
            ]
          },
          "metadata": {}
        }
      ]
    },
    {
      "cell_type": "markdown",
      "source": [
        "### Modelo de Lenguaje"
      ],
      "metadata": {
        "id": "__eo0ZDBbwYh"
      }
    },
    {
      "cell_type": "markdown",
      "source": [
        "El modelo de lenguaje que se utilizara para simular conversiones entre un usuario con la documentación de Genexus sera Zephyr, un modelo de software libre disponible en HuggingFace para usar mediante RestAPI.\n",
        "\n",
        "Este modelo se alimenta de un rol que el mismo debe cumplir en la conversación, el contexto para ubicarse para responder preguntas, y la pregunta del usuario como tál."
      ],
      "metadata": {
        "id": "rUjiR8hhkht3"
      }
    },
    {
      "cell_type": "code",
      "source": [
        "# llamada al modelo mediante api\n",
        "API_URL = \"https://api-inference.huggingface.co/models/HuggingFaceH4/zephyr-7b-beta\"\n",
        "headers = {\"Authorization\": \"HERE MUST BE YOUR HUGGINGFACE TOKEN!\"}\n",
        "\n",
        "# rol del agente\n",
        "rol = 'You are a expert in Genexus 18 who always responds with the context provided using Genexus code syntax'\n",
        "\n",
        "# envia la consulta al servidor y responde\n",
        "def query(payload):\n",
        "\tresponse = requests.post(API_URL, headers=headers, json=payload)\n",
        "\treturn response.json()\n",
        "\n",
        "# estructura del input para el modelo\n",
        "quest_to_model = f\"\"\" <|system|>\n",
        "{rol}</s>\n",
        "<|user|>\n",
        "Context: {context}\n",
        "Question: {user_query}\n",
        "</s>\n",
        "<|assistant|> \"\"\"\n",
        "\n",
        "# parametros del modelo\n",
        "output = query({\n",
        "\t\"inputs\": quest_to_model,\n",
        "\t\"parameters\": {\n",
        "\t\t   \"do_sample\": False,\n",
        "\t\t   \"max_new_tokens\": 1000,\n",
        "\t}\n",
        "})"
      ],
      "metadata": {
        "id": "hiAQHQRIbyey"
      },
      "execution_count": null,
      "outputs": []
    },
    {
      "cell_type": "code",
      "source": [
        "# ejemplo de respuesta\n",
        "(output[0]['generated_text'][len(tino_quest): ].strip())"
      ],
      "metadata": {
        "colab": {
          "base_uri": "https://localhost:8080/",
          "height": 157
        },
        "id": "zDc0NBWveBCw",
        "outputId": "a0a867fd-ebdf-4cea-c1ee-df726c49ecea"
      },
      "execution_count": null,
      "outputs": [
        {
          "output_type": "execute_result",
          "data": {
            "text/plain": [
              "'The variable `&trnContext` is a built-in Genexus variable used in transaction events (`EVENT TRN`). It contains the context information of the current transaction, such as the user ID, company ID, and transaction ID. This variable can be accessed and manipulated in the transaction event code to perform specific actions based on the context of the transaction. For example, you can use `&trnContext` to log transaction details, validate user permissions, or perform auditing tasks. The syntax for accessing this variable is `&trnContext.propertyName`, where `propertyName` is the name of the property you want to access, such as `&trnContext.userId` or `&trnContext.companyId`.'"
            ],
            "application/vnd.google.colaboratory.intrinsic+json": {
              "type": "string"
            }
          },
          "metadata": {},
          "execution_count": 38
        }
      ]
    },
    {
      "cell_type": "markdown",
      "source": [
        "### Automatización de las consultas"
      ],
      "metadata": {
        "id": "mJ_4Vr6BCkbS"
      }
    },
    {
      "cell_type": "markdown",
      "source": [
        "La idea es que una unica llamada al modelo con una pregunta pueda resolver toda la lógica asociada en encontrar el contexto adecuado, y recibir la respuesta esperada en la salida."
      ],
      "metadata": {
        "id": "P0Kz56b91gRc"
      }
    },
    {
      "cell_type": "code",
      "source": [
        "def get_contenxt(user, sentences, nearests=3):\n",
        "    '''Obtiene de los documentos cernanos el top de oraciones mas cercanas al contexto'''\n",
        "    # depurar la consulta\n",
        "    user_query = clean_text(user)\n",
        "\n",
        "    # vectorizacion del texto\n",
        "    sentence_embeddings = modelo_embedding.encode(sentences, convert_to_tensor=True)\n",
        "    query_embeddings = modelo_embedding.encode(user_query, convert_to_tensor=True)\n",
        "\n",
        "    # obtener distancias\n",
        "    puntuaciones_coseno = util.pytorch_cos_sim(query_embeddings, sentence_embeddings)[0]\n",
        "\n",
        "    # obtener resultados mas cernados\n",
        "    indices_ordenados = torch.argsort(puntuaciones_coseno, descending=True)\n",
        "    top_3_oraciones = [sentences[i] for i in indices_ordenados[:nearests]]\n",
        "\n",
        "    return ' '.join(top_3_oraciones)\n",
        "\n",
        "def query_to_model(user, assistant, context=None, nearest=2):\n",
        "    '''enviar consulta al modelo, determina el contexto y se le aniade\n",
        "       otro si el usaurio quiere ingresarlo, y retorna la respuesta'''\n",
        "    # buscar los documentos cercanos\n",
        "    res = collection.query(\n",
        "                           query_texts=[user],\n",
        "                           n_results=nearest\n",
        "                          )\n",
        "\n",
        "    # extracion de los mejores fragmentos\n",
        "    tokens_sentences = tokenize_sentences(res)\n",
        "    space_context = get_contenxt(user, tokens_sentences, nearest)\n",
        "\n",
        "    # aniadir contexto extra\n",
        "    if context is not None:\n",
        "        space_context += f' {context}'\n",
        "\n",
        "    # estructua del input\n",
        "    quest = f\"\"\" <|system|>\n",
        "    {assistant}\n",
        "    </s>\n",
        "    <|user|>\n",
        "    Context: {space_context}\n",
        "    Question: {user}</s>\n",
        "    <|assistant|> \"\"\"\n",
        "\n",
        "    # estructura de la consulta\n",
        "    output = query({\n",
        "        \"inputs\": quest,\n",
        "        \"parameters\": {\n",
        "            \"do_sample\": False,\n",
        "            \"max_new_tokens\": 1000\n",
        "        }\n",
        "    })\n",
        "\n",
        "\n",
        "    # obtiene la respuesta\n",
        "    model_res = (output[0]['generated_text'][len(quest): ].strip())\n",
        "    return model_res\n",
        "\n",
        "question = 'Explain me about inout parameters in procedures'\n",
        "print(query_to_model(user=question, assistant=rol))"
      ],
      "metadata": {
        "colab": {
          "base_uri": "https://localhost:8080/"
        },
        "id": "HD_dGtz6CuHc",
        "outputId": "bd86ee83-2aca-47ec-ab04-250c00283b3d"
      },
      "execution_count": null,
      "outputs": [
        {
          "output_type": "stream",
          "name": "stdout",
          "text": [
            "Inout parameters in procedures allow passing values to a procedure and also allowing the procedure to modify those values. This is different from input parameters, where the procedure only receives the value, and output parameters, where the procedure returns a value.\n",
            "\n",
            "Inout parameters are declared with the \"inout\" keyword in Genexus, and they can be used to pass complex data structures or large amounts of data between the procedure and the calling program. This can improve performance by avoiding the need to copy large amounts of data between the procedure and the calling program.\n",
            "\n",
            "Here's an example of how to declare an inout parameter in Genexus:\n",
            "\n",
            "```\n",
            "procedure myProcedure(inout: myStruct)\n",
            "begin\n",
            "  // Modify the inout parameter here\n",
            "end\n",
            "\n",
            "// Call the procedure with an inout parameter\n",
            "myStruct myStructVar;\n",
            "myStructVar.field1 := 1;\n",
            "myStructVar.field2 := \"hello\";\n",
            "myProcedure(myStructVar);\n",
            "\n",
            "// The inout parameter is now modified inside the procedure\n",
            "// and the changes are reflected in the calling program\n",
            "```\n",
            "\n",
            "In this example, the `myStruct` parameter is declared as an inout parameter, which means it can be both input and output. Inside the procedure, the parameter can be modified, and the changes will be reflected in the calling program.\n",
            "\n",
            "In summary, inout parameters in procedures allow passing complex data structures or large amounts of data between the procedure and the calling program, and they can improve performance by avoiding the need to copy large amounts of data.\n"
          ]
        }
      ]
    },
    {
      "cell_type": "markdown",
      "source": [
        "Se puede notar un respuesta bastante precisa al menos a nivel conceptual. Aunque al momento de generar código demuestra utilizar syntaxis que originalmente Genexus no utiliza, pero tampoco es tan ajeno la forma general del código a la respuesta esperada."
      ],
      "metadata": {
        "id": "hCravTkwp_y9"
      }
    },
    {
      "cell_type": "code",
      "source": [
        "# ejemplo de consulta mas especifica con contexto añiadido\n",
        "question = '''Give a example of procedure that take a inout parameter that takes a number and return the number plus one defining the rules and the source of the procedure.'''\n",
        "context = '''Inout parameters in procedures allow passing values to a procedure and also allowing the procedure to modify those values. This is different from input parameters, where the procedure only receives the value, and output parameters, where the procedure returns a value.'''\n",
        "rol = '''You are an expert Genexus programer that responds wih shorts pieces of code.'''\n",
        "\n",
        "print(query_to_model(user=question, assistant=rol, context=context, nearest=3))"
      ],
      "metadata": {
        "colab": {
          "base_uri": "https://localhost:8080/"
        },
        "id": "85thSLzbqZss",
        "outputId": "90fe3c2a-c07a-4122-85bb-a3014279b5e7"
      },
      "execution_count": null,
      "outputs": [
        {
          "output_type": "stream",
          "name": "stdout",
          "text": [
            "Here's an example of a Genexus procedure that takes an inout parameter and returns the number plus one:\n",
            "\n",
            "Procedure Name: IncrementNumber\n",
            "\n",
            "Rules:\n",
            "\n",
            "1. Declare the procedure with an inout parameter:\n",
            "\n",
            "   DECLARE PROCEDURE IncrementNumber(INOUT num AS NUMBER)\n",
            "\n",
            "2. Define the operator behavior:\n",
            "\n",
            "   DEFINE OPERATE AS:\n",
            "\n",
            "   INPUT PARAMETER: The parameter is being passed into the procedure, but its value can be modified inside the procedure.\n",
            "\n",
            "   OUTPUT PARAMETER: The procedure returns a value, but the parameter's value is not modified inside the procedure.\n",
            "\n",
            "   INPUT OUTPUT PARAMETER: The parameter is being passed into the procedure, and its value can be modified inside the procedure.\n",
            "\n",
            "   In this case, we're using an inout parameter, so the behavior is:\n",
            "\n",
            "   INPUT OUTPUT PARAMETER: The parameter is being passed into the procedure, and its value can be modified inside the procedure.\n",
            "\n",
            "   Source:\n",
            "\n",
            "   ```\n",
            "   PROCEDURE IncrementNumber(INOUT num AS NUMBER)\n",
            "   BEGIN\n",
            "       num := num + 1;\n",
            "   END\n",
            "   ```\n",
            "\n",
            "   In this example, we're simply incrementing the value of the inout parameter `num` and returning it. The modified value is then passed back to the calling procedure or event.\n"
          ]
        }
      ]
    },
    {
      "cell_type": "markdown",
      "source": [
        "### Memoria de Corto Plazo"
      ],
      "metadata": {
        "id": "DB8GHSPnu4o7"
      }
    },
    {
      "cell_type": "markdown",
      "source": [
        "La idea es que el modelo pueda mantener la coherencia de la conversión respecto a las consultas y respuestas previas. Para ello se plantea una estructura de datos para el contexto como una lista de strings que se modificando a lo largo de la conversación, pero manteniendo el contexto reciente en memoria.\n",
        "\n",
        "Para ello se define una cola (Queue) donde se almacena el contexto de los documentos mas el contexto de la conversación."
      ],
      "metadata": {
        "id": "KwhKdCEPrmv6"
      }
    },
    {
      "cell_type": "code",
      "source": [
        "global_context = []"
      ],
      "metadata": {
        "id": "J7Hk0tMcu9pY"
      },
      "execution_count": null,
      "outputs": []
    },
    {
      "cell_type": "markdown",
      "source": [
        "Se hace una modifación sobre esta función para retornar una lista de oraciones cernadas en lugar de un string concatenado."
      ],
      "metadata": {
        "id": "KgUhWUop11Ts"
      }
    },
    {
      "cell_type": "code",
      "source": [
        "def get_contenxt(user, sentences, nearests=3):\n",
        "    '''Obtiene de los documentos cernanos el top de oraciones mas cercanas al contexto'''\n",
        "    # depurar la consulta\n",
        "    user_query = clean_text(user)\n",
        "\n",
        "    # vectorizacion del texto\n",
        "    sentence_embeddings = modelo_embedding.encode(sentences, convert_to_tensor=True)\n",
        "    query_embeddings = modelo_embedding.encode(user_query, convert_to_tensor=True)\n",
        "\n",
        "    # obtener distancias\n",
        "    puntuaciones_coseno = util.pytorch_cos_sim(query_embeddings, sentence_embeddings)[0]\n",
        "\n",
        "    # obtener resultados mas cernados\n",
        "    indices_ordenados = torch.argsort(puntuaciones_coseno, descending=True)\n",
        "    top_3_oraciones = [sentences[i] for i in indices_ordenados[:nearests]]\n",
        "\n",
        "    return top_3_oraciones"
      ],
      "metadata": {
        "id": "ANX7rIlgtJDs"
      },
      "execution_count": null,
      "outputs": []
    },
    {
      "cell_type": "markdown",
      "source": [
        "Una memoria de 8 unidades implica que contemplará las 3 oraciones de la documentación mas cernanas a la pregunta previa, las tres oraciones mas cercanas a la pregunta actual en la documentación, y las tres mas cercanas al texto de la respuesta previa."
      ],
      "metadata": {
        "id": "kYnlPdSq2Vhp"
      }
    },
    {
      "cell_type": "code",
      "source": [
        "def query_to_model(user, assistant, context=None, nearest=3, memory=8):\n",
        "    '''enviar consulta al modelo, determina el contexto y se le añade\n",
        "       contexto de la conversacion, y retorna la respuesta'''\n",
        "    global global_context\n",
        "\n",
        "    # buscar los documentos cercanos\n",
        "    res = collection.query(\n",
        "                           query_texts=[user],\n",
        "                           n_results=nearest\n",
        "                          )\n",
        "\n",
        "    # extracion de los mejores fragmentos de la documentación\n",
        "    tokens_sentences = tokenize_sentences(res)\n",
        "    space_context = get_contenxt(user, tokens_sentences)\n",
        "\n",
        "    # añiade al contexto global\n",
        "    for sentence in space_context:\n",
        "        global_context.append(sentence)\n",
        "\n",
        "    if context is not None:\n",
        "        # depurar el contexto de conversacion\n",
        "        clean_chat_context = clean_text(context)\n",
        "\n",
        "        # extracion de los mejores fragmentos de la respuesta previa\n",
        "        tokens_chat = tokenize_sentences(clean_chat_context, raw=True)\n",
        "        chat_context_sentences = get_contenxt(user, tokens_chat)\n",
        "\n",
        "        # añiade al contexto global\n",
        "        for sentence_chat in chat_context_sentences:\n",
        "            global_context.append(sentence_chat)\n",
        "\n",
        "    # remueve los contextos mas viejos\n",
        "    while len(global_context) > memory:\n",
        "        global_context.pop(0)\n",
        "\n",
        "    context_model = ' '.join(global_context)\n",
        "\n",
        "    # estructua del input\n",
        "    quest = f\"\"\" <|system|>\n",
        "    {assistant}\n",
        "    </s>\n",
        "    <|user|>\n",
        "    Context: {context_model}\n",
        "    Question: {user}</s>\n",
        "    <|assistant|> \"\"\"\n",
        "\n",
        "    # estructura de la consulta\n",
        "    output = query({\n",
        "        \"inputs\": quest,\n",
        "        \"parameters\": {\n",
        "            \"do_sample\": False,\n",
        "            \"max_new_tokens\": 1000\n",
        "        }\n",
        "    })\n",
        "\n",
        "\n",
        "    # obtiene la respuesta\n",
        "    model_res = (output[0]['generated_text'][len(quest): ].strip())\n",
        "    return model_res\n",
        "\n",
        "question = 'Explain me about inout parameters in procedures'\n",
        "model_answer = query_to_model(user=question, assistant=rol)\n",
        "print(model_answer)"
      ],
      "metadata": {
        "colab": {
          "base_uri": "https://localhost:8080/"
        },
        "id": "UtOGRFLftNXB",
        "outputId": "eb6a0873-1209-4c94-d2d7-220e00330594"
      },
      "execution_count": null,
      "outputs": [
        {
          "output_type": "stream",
          "name": "stdout",
          "text": [
            "Inout parameters in procedures allow passing values to the procedure and also allowing the procedure to modify those values. This is different from input parameters, where the procedure can only receive values, and output parameters, where the procedure can only return values.\n",
            "\n",
            "Inout parameters are declared with the \"inout\" keyword in the parameter list of the procedure. When a variable is passed as an inout parameter, it is initially passed by value, but any changes made to the variable within the procedure are reflected in the original variable outside the procedure.\n",
            "\n",
            "This feature is useful when you want to modify the original variable based on some calculation or operation performed within the procedure. It saves the need to pass the modified variable back as an output parameter, which can be more efficient and less error-prone.\n",
            "\n",
            "Here's an example:\n",
            "\n",
            "```gen\n",
            "procedure sum(inout num1, inout num2)\n",
            "    var sum as integer\n",
            "    sum = num1 + num2\n",
            "    num1 = num1 - num2\n",
            "    num2 = sum\n",
            "end\n",
            "\n",
            "// Calling the procedure\n",
            "var a, b as integer\n",
            "a = 10\n",
            "b = 20\n",
            "sum(a, b)\n",
            "\n",
            "// After calling the procedure, a and b have new values\n",
            "// a = 50 (10 - 20)\n",
            "// b = 30 (10 + 20)\n",
            "```\n",
            "\n",
            "In this example, the `sum` procedure takes two inout parameters `num1` and `num2`, performs some calculations, and modifies the original variables `num1` and `num2`. After calling the procedure, the original variables `a` and `b` have new values based on the calculations performed within the procedure.\n"
          ]
        }
      ]
    },
    {
      "cell_type": "code",
      "source": [
        "global_context"
      ],
      "metadata": {
        "colab": {
          "base_uri": "https://localhost:8080/"
        },
        "id": "ZY02bN3s0rIf",
        "outputId": "d2f18366-9126-4649-a1b0-d487fdfd319f"
      },
      "execution_count": null,
      "outputs": [
        {
          "output_type": "execute_result",
          "data": {
            "text/plain": [
              "['example follow rule declare procedure: parm(out:&var1, in:&var2, &var3, inout:&var4); so, note that: &var1: parameter &var2: parameter &var3: in-out parameter &var4: in-out parameter advantage define operators declare explicitly parameter behavior, obtain follow advantages: 1. better specification semantics interface.',\n",
              " 'parameter declare parm rule define operate as: input parameter (specifying operator) output parameter (specifying operator) input output parameter (specifying inout operator) operator specified, depend following: object call call, parameter behavior be: inout.',\n",
              " 'parameters receive null value.']"
            ]
          },
          "metadata": {},
          "execution_count": 64
        }
      ]
    },
    {
      "cell_type": "markdown",
      "source": [
        "Notar como en la primera pregunta solo utiliza de contexto los documentos."
      ],
      "metadata": {
        "id": "nFIF6qAU3gc9"
      }
    },
    {
      "cell_type": "code",
      "source": [
        "question2 = 'how can i do the sum if parameters are only input parameters?'\n",
        "second_answer = query_to_model(user=question2, assistant=rol, context=model_answer)"
      ],
      "metadata": {
        "id": "8lm7rRarx5XC"
      },
      "execution_count": null,
      "outputs": []
    },
    {
      "cell_type": "code",
      "source": [
        "global_context"
      ],
      "metadata": {
        "colab": {
          "base_uri": "https://localhost:8080/"
        },
        "id": "_cXPdgQx08Tw",
        "outputId": "89ec5ecf-7153-45d3-9a11-de801346e058"
      },
      "execution_count": null,
      "outputs": [
        {
          "output_type": "execute_result",
          "data": {
            "text/plain": [
              "['parameter declare parm rule define operate as: input parameter (specifying operator) output parameter (specifying operator) input output parameter (specifying inout operator) operator specified, depend following: object call call, parameter behavior be: inout.',\n",
              " 'parameters receive null value.',\n",
              " \"note count formulas, first parameter can't expression.\",\n",
              " 'user variables use inline formulas.',\n",
              " 'sum count formulas, result evaluate expression must numeric value.',\n",
              " 'inout parameters declare \"inout\" keyword parameter list procedure.',\n",
              " 'different input parameters, procedure receive values, output parameters, procedure return values.',\n",
              " \"here's example: ```gen procedure sum(inout num1, inout num2) var sum integer sum = num1 + num2 num1 = num1 - num2 num2 = sum end // call procedure var a, b integer = 10 b = 20 sum(a, b) // call procedure, b new value // = 50 (10 - 20) // b = 30 (10 + 20) ``` example, `sum` procedure take two inout parameters `num1` `num2`, perform calculations, modify original variables `num1` `num2`.\"]"
            ]
          },
          "metadata": {},
          "execution_count": 75
        }
      ]
    },
    {
      "cell_type": "markdown",
      "source": [
        "Pero para la segunda pregunta el contexto ahora abarca tambien la nueva documentación y la respuesta previa."
      ],
      "metadata": {
        "id": "No3CSgf13pU-"
      }
    },
    {
      "cell_type": "code",
      "source": [
        "print(second_answer)"
      ],
      "metadata": {
        "colab": {
          "base_uri": "https://localhost:8080/"
        },
        "id": "OBG8Dut50UTY",
        "outputId": "b3f8762d-0e3e-4935-a087-2f60bf0b9c14"
      },
      "execution_count": null,
      "outputs": [
        {
          "output_type": "stream",
          "name": "stdout",
          "text": [
            "If the parameters are only input parameters, you cannot modify their values within the procedure. Instead, you can create a new output parameter to hold the sum and return it at the end of the procedure. Here's an example:\n",
            "\n",
            "```gen\n",
            "procedure sum(input num1, input num2)\n",
            "var sum integer\n",
            "sum = num1 + num2\n",
            "return sum\n",
            "end\n",
            "\n",
            "// Call procedure and store result in output parameter\n",
            "var result integer\n",
            "sum(10, 20, result)\n",
            "```\n",
            "\n",
            "In this example, the `sum` procedure takes two input parameters `num1` and `num2`, calculates their sum, and returns it as an output parameter `sum`. When calling the procedure, you pass the input parameters and a new output parameter `result` to store the sum.\n"
          ]
        }
      ]
    },
    {
      "cell_type": "markdown",
      "source": [
        "### Traducción"
      ],
      "metadata": {
        "id": "C-Hd2Sf7IkqU"
      }
    },
    {
      "cell_type": "markdown",
      "source": [
        "Debido a que la documentación de Genexus está en inglés y no se puede obtener directamente en español, se opta por añadir un paso más a la hora de interactuar, que es la traducción automática del texto tanto ingresado como retornado, debido a en la interfaz el usuario debe poder conversar en español, pero el modelo de fondo trabaja en inglés."
      ],
      "metadata": {
        "id": "crh4U9N-UzwT"
      }
    },
    {
      "cell_type": "code",
      "source": [
        "rol_en = GoogleTranslator(source='es', target='en').translate(\"Eres un programador experto Genexus que siempre responde utilizando el contexto proporcionado.\")\n",
        "print(rol_en)\n",
        "\n",
        "rol_es = GoogleTranslator(source='en', target='es').translate(\"You are an Genexus expert programer that always responds using the provided context.\")\n",
        "print(rol_es)"
      ],
      "metadata": {
        "colab": {
          "base_uri": "https://localhost:8080/"
        },
        "id": "4WbfDuEBJUuZ",
        "outputId": "0b47f58e-bb79-4f28-d43a-0cbb1a155326"
      },
      "execution_count": null,
      "outputs": [
        {
          "output_type": "stream",
          "name": "stdout",
          "text": [
            "You are an expert Genexus programmer who always responds using the context provided.\n",
            "Eres un programador experto Genexus que siempre responde utilizando el contexto proporcionado.\n"
          ]
        }
      ]
    },
    {
      "cell_type": "markdown",
      "source": [
        "Un problema que se presenta es que el código no debe ser traducido ya que usa palabras reservadas del lenguaje. Para ello se crea la siguiente función para evitar la traducción en bloques de texto."
      ],
      "metadata": {
        "id": "jKIHNqo4Zgd0"
      }
    },
    {
      "cell_type": "code",
      "source": [
        "# Expresión regular para identificar bloques de código\n",
        "code_block_pattern = re.compile(r'`{3}.*?`{3}', re.DOTALL)\n",
        "\n",
        "def translate_except_code(text, source, target):\n",
        "    '''Traducir al español la respuesta, excluyendo bloques de código'''\n",
        "    # Encuentra todos los bloques de código en el texto\n",
        "    code_blocks = code_block_pattern.findall(text)\n",
        "\n",
        "    # Reemplaza los bloques de código con marcadores temporales\n",
        "    for i, block in enumerate(code_blocks):\n",
        "        text = text.replace(block, f'__CODE_BLOCK_{i}__')\n",
        "\n",
        "    # Traduce el texto sin los bloques de código\n",
        "    translated_text = GoogleTranslator(source=source, target=target).translate(text)\n",
        "\n",
        "    # Restaura los bloques de código en la traducción\n",
        "    for i, block in enumerate(code_blocks):\n",
        "        translated_text = translated_text.replace(f'__CODE_BLOCK_{i}__', block)\n",
        "\n",
        "    return translated_text\n",
        "\n",
        "example_with_code = '''\n",
        "3. In the details view, click the \"Formula\" tab to open the formula editor.\n",
        "4. Click the \"New Formula\" button to create a new formula.\n",
        "5. In the formula editor, enter the following formula:\n",
        "```\n",
        "Sum(Price, Where(Level = Level - 1))\n",
        "```\n",
        "6. Save the formula and close the formula editor.\n",
        "7. Open the entity diagram where you defined the global formula.'''\n",
        "\n",
        "model_answer_es = translate_except_code(example_with_code, 'en', 'es')\n",
        "print(model_answer_es)"
      ],
      "metadata": {
        "colab": {
          "base_uri": "https://localhost:8080/"
        },
        "id": "ImdxsCxYWj_-",
        "outputId": "0f581d83-29c3-41ea-a8c4-236a9e52f5f9"
      },
      "execution_count": null,
      "outputs": [
        {
          "output_type": "stream",
          "name": "stdout",
          "text": [
            "3. En la vista de detalles, haga clic en la pestaña \"Fórmula\" para abrir el editor de fórmulas.\n",
            "4. Haga clic en el botón \"Nueva fórmula\" para crear una nueva fórmula.\n",
            "5. En el editor de fórmulas, ingrese la siguiente fórmula:\n",
            "```\n",
            "Sum(Price, Where(Level = Level - 1))\n",
            "```\n",
            "6. Guarde la fórmula y cierre el editor de fórmulas.\n",
            "7. Abra el diagrama de entidad donde definió la fórmula global.\n"
          ]
        }
      ]
    },
    {
      "cell_type": "markdown",
      "source": [
        "### Conversación"
      ],
      "metadata": {
        "id": "5Dq3FE-9IlTr"
      }
    },
    {
      "cell_type": "markdown",
      "source": [
        "Finalmente se logra un modelo de conversación que permite ingresar preguntas en español sobre algún tema de Genexus, y el modelo de lenguaje tomara información relacionada de las fuentes de datos para tratar de reponder de forma más precisa en español mantiendo la coherencia para los bloques de código."
      ],
      "metadata": {
        "id": "kYyWvPGhcoMr"
      }
    },
    {
      "cell_type": "code",
      "source": [
        "# inicializa el contexto y rol\n",
        "global_context = []\n",
        "rol = 'You are an Genexus expert programer that always responds using the provided context with brief responses and short pieces of code.'\n",
        "first_question = True\n",
        "\n",
        "# iteracion de la conversacion\n",
        "while True:\n",
        "    user_input = input(\"\\u0001 [User]: \")\n",
        "    user_input_en = GoogleTranslator(source='es', target='en').translate(user_input)\n",
        "\n",
        "    print('\\n')\n",
        "\n",
        "    # keyword de escape\n",
        "    if user_input.lower() == 'exit':\n",
        "        print(\"Exiting the conversation.\")\n",
        "        break\n",
        "\n",
        "    # obtiene respuesta de acuerdo de acuerdo a si usa o no contexto previo\n",
        "    if first_question:\n",
        "        model_answer = query_to_model(user_input, rol, memory=6)\n",
        "        first_question = False\n",
        "    else:\n",
        "        model_answer = query_to_model(user_input, rol, context=model_answer, memory=6)\n",
        "\n",
        "    # traducir al español la respuesta\n",
        "    model_answer_es = translate_except_code(model_answer, 'en', 'es')\n",
        "\n",
        "    print(\"\\u0001 [Model]:\", model_answer_es, '\\n')"
      ],
      "metadata": {
        "id": "EubKF0udIoe7",
        "colab": {
          "base_uri": "https://localhost:8080/"
        },
        "outputId": "488fda49-76d3-49e7-d935-fd00aa5a7f0e"
      },
      "execution_count": null,
      "outputs": [
        {
          "output_type": "stream",
          "name": "stdout",
          "text": [
            "\u0001 [User]: Enseniame a hacer un procedimiento que tome dos numeros y retorno su suma\n",
            "\n",
            "\n",
            "\u0001 [Model]: Aquí hay un procedimiento Genexus que toma dos números como entrada y devuelve su suma:\n",
            "\n",
            "1. Cree un nuevo procedimiento en Genexus y asígnele el nombre \"AddNumbers\".\n",
            "2. Agregue dos parámetros de entrada de tipo numérico, denominados \"num1\" y \"num2\".\n",
            "3. Agregue un parámetro de salida de tipo numérico, denominado \"suma\".\n",
            "4. En el cuerpo del procedimiento, agregue el siguiente código:\n",
            "\n",
            "```\n",
            "sum = num1 + num2\n",
            "```\n",
            "\n",
            "5. Guarde y pruebe el procedimiento.\n",
            "\n",
            "Aquí está la sintaxis para llamar al procedimiento:\n",
            "\n",
            "```\n",
            "CALL PROCEDURE(\"AddNumbers\") PARAM(\"num1\", <num1 value>) PARAM(\"num2\", <num2 value>) RESULT(\"sum\")\n",
            "```\n",
            "\n",
            "Reemplace `<valor num1>` y `<valor num2>` con los valores reales que desea agregar. El resultado del procedimiento se almacenará en la variable `suma`. \n",
            "\n",
            "\u0001 [User]: Esta bien. Y ahora si quisiera que divida los numeros de la entrada en lugar de sumar? debes contemplar el caso de que el divisor no sea 0\n",
            "\n",
            "\n",
            "\u0001 [Model]: Para dividir los números ingresados ​​en lugar de sumarlos, se puede crear un nuevo procedimiento Genexus con los siguientes pasos:\n",
            "\n",
            "1. Crear un nuevo procedimiento en Genexus con el nombre \"dividenumbers\".\n",
            "2. Agregue dos parámetros de entrada de tipo numérico con los nombres \"num1\" y \"num2\".\n",
            "3. Agregue un parámetro de salida de tipo numérico con el nombre \"resultado\" para devolver el resultado de la división.\n",
            "4. Dentro del procedimiento, agregue el siguiente código:\n",
            "\n",
            "```\n",
            "if num2 = 0 then\n",
            "  messagebox(\"Error: Divisor cannot be zero.\")\n",
            "  return\n",
            "end if\n",
            "\n",
            "result = num1 / num2\n",
            "```\n",
            "\n",
            "Este código verifica si el divisor es cero y muestra un mensaje de error si lo es. Si el divisor no es cero, realiza la división y devuelve el resultado.\n",
            "\n",
            "Para llamar a este procedimiento, puede utilizar la siguiente sintaxis:\n",
            "\n",
            "```\n",
            "call procedure(\"dividenumbers\") param(\"num1\", <num1 value>) param(\"num2\", <num2 value>) result(\"result\")\n",
            "```\n",
            "\n",
            "Reemplace `<valor num1>` y `<valor num2>` con los valores reales que desea dividir. El resultado se devolverá en el parámetro \"resultado\". \n",
            "\n",
            "\u0001 [User]: que funcion debo utilizar si quisiera que el resultado se muestre en un mensaje como un cartel en la parte superior de la pantalla?\n",
            "\n",
            "\n",
            "\u0001 [Model]: Para mostrar el resultado como mensaje o banner en la parte superior de la pantalla, puede utilizar la función `message()` en Genexus. A continuación se muestra un ejemplo de cómo puede modificar la sintaxis que proporcionó para mostrar el resultado como un mensaje:\n",
            "\n",
            "```genexus\n",
            "syntax {max | min}( <expressiontobemaxormin>, <aggregatecondition>, <defaultvalue> , <returnedattributevalue> ) [ <triggeringcondition> ] where:\n",
            "    <expressiontobemaxormin> expression whose resultant value maximized/minimized, among record fulfil <aggregatecondition>.\n",
            "    <triggeringcondition> condition determine formula must trigger not.\n",
            "    return end result = num1 / num2\n",
            "    message( \"Result: \" + result )\n",
            "\n",
            "    // Example usage:\n",
            "    // result = 10 / 2\n",
            "    // message will display \"Result: 5\" at the top of the screen\n",
            "```\n",
            "\n",
            "En este ejemplo, la función `message()` se llama con el resultado concatenado a una cadena. El mensaje se mostrará en la parte superior de la pantalla, reemplazando cualquier mensaje existente. Puede personalizar el texto del mensaje para adaptarlo a sus necesidades. \n",
            "\n",
            "\u0001 [User]: Seguro? No deberias usar una que se llama msg()?\n",
            "\n",
            "\n",
            "\u0001 [Model]: Respuesta: La función `message()` en Genexus es la forma recomendada de mostrar mensajes de resultados y personalizar el texto de los mensajes. Si bien existe una función llamada `msg()` en Genexus, esta se usa para diferentes propósitos, como recuperar el valor de un recurso de mensaje o configurar el recurso de mensaje para un idioma específico. No debe usarse para mostrar mensajes de resultados. Entonces, para resumir, se debe utilizar la función `message()` para mostrar mensajes de resultados en Genexus. \n",
            "\n",
            "\u0001 [User]: Okay\n",
            "\n",
            "\n",
            "\u0001 [Model]: \"En Genexus, para mostrar mensajes de resultados, podemos usar la función `message()`. Esta función se recomienda para personalizar el texto de los mensajes y mostrar mensajes de resultados. Puede usarse como una alternativa para mostrar mensajes de resultados proporcionados por Genexus. Sin embargo, Es importante tener en cuenta que la función `message()` no debe confundirse con reglas de transacción o comandos de mensajes, que tienen diferentes propósitos. Si ocurre un error durante una transacción, podemos usar la función `happen()` para mostrar un error. mensaje. En general, la función `message()` proporciona una forma flexible y personalizable de mostrar mensajes a los usuarios en las aplicaciones Genexus.\" \n",
            "\n",
            "\u0001 [User]: exit\n",
            "\n",
            "\n",
            "Exiting the conversation.\n"
          ]
        }
      ]
    }
  ]
}